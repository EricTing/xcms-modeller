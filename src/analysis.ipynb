{
 "cells": [
  {
   "cell_type": "code",
   "execution_count": 1,
   "metadata": {
    "collapsed": true
   },
   "outputs": [],
   "source": [
    "%matplotlib inline\n",
    "import pandas as pd\n",
    "import matplotlib.pyplot as plt"
   ]
  },
  {
   "cell_type": "markdown",
   "metadata": {},
   "source": [
    "## Sampled complexes"
   ]
  },
  {
   "cell_type": "code",
   "execution_count": 2,
   "metadata": {
    "collapsed": true
   },
   "outputs": [],
   "source": [
    "sampled_ifn = \"../dat/xcms_mod.sampled.csv\""
   ]
  },
  {
   "cell_type": "code",
   "execution_count": 3,
   "metadata": {
    "collapsed": true
   },
   "outputs": [],
   "source": [
    "sampled_df = pd.read_csv(sampled_ifn)"
   ]
  },
  {
   "cell_type": "code",
   "execution_count": 4,
   "metadata": {
    "collapsed": false
   },
   "outputs": [
    {
     "data": {
      "text/html": [
       "<div>\n",
       "<table border=\"1\" class=\"dataframe\">\n",
       "  <thead>\n",
       "    <tr style=\"text-align: right;\">\n",
       "      <th></th>\n",
       "      <th>TM-score</th>\n",
       "      <th>Tc</th>\n",
       "      <th>num_binding_res</th>\n",
       "      <th>num_lig_atoms</th>\n",
       "      <th>ps_score</th>\n",
       "      <th>ps_score_pval</th>\n",
       "      <th>pval</th>\n",
       "      <th>query</th>\n",
       "      <th>query_lig_atom_num</th>\n",
       "      <th>query_res</th>\n",
       "      <th>rmsd</th>\n",
       "      <th>seq_identity</th>\n",
       "      <th>tc_times_ps</th>\n",
       "      <th>template</th>\n",
       "      <th>template_lig_atom_num</th>\n",
       "      <th>template_res</th>\n",
       "      <th>xcms</th>\n",
       "    </tr>\n",
       "  </thead>\n",
       "  <tbody>\n",
       "    <tr>\n",
       "      <th>0</th>\n",
       "      <td>0.53570</td>\n",
       "      <td>0.769231</td>\n",
       "      <td>13.0</td>\n",
       "      <td>20.0</td>\n",
       "      <td>0.30323</td>\n",
       "      <td>0.7701</td>\n",
       "      <td>0.002061</td>\n",
       "      <td>BDB50026332-000-T1690-1ri2A00.mod.pdb</td>\n",
       "      <td>[2, 3, 4, 7, 9, 10, 11, 12, 13, 14, 15, 16, 18...</td>\n",
       "      <td>[118, 140, 122, 121, 120, 186, 146, 142, 170, ...</td>\n",
       "      <td>3.67</td>\n",
       "      <td>0.087</td>\n",
       "      <td>0.233254</td>\n",
       "      <td>a2/3a26_MTA_A_1.pdb</td>\n",
       "      <td>[16, 9, 7, 1, 3, 5, 2, 18, 12, 17, 19, 13, 8, ...</td>\n",
       "      <td>[19, 22, 26, 28, 29, 143, 222, 224, 243, 244, ...</td>\n",
       "      <td>0.143313</td>\n",
       "    </tr>\n",
       "    <tr>\n",
       "      <th>1</th>\n",
       "      <td>0.55668</td>\n",
       "      <td>0.514286</td>\n",
       "      <td>15.0</td>\n",
       "      <td>18.0</td>\n",
       "      <td>0.27881</td>\n",
       "      <td>0.9420</td>\n",
       "      <td>0.000004</td>\n",
       "      <td>BDB50026332-000-T1690-1ri2A00.mod.pdb</td>\n",
       "      <td>[2, 3, 4, 9, 10, 12, 13, 14, 15, 16, 18, 19, 2...</td>\n",
       "      <td>[87, 109, 108, 134, 133, 195, 196, 89, 64, 136...</td>\n",
       "      <td>3.19</td>\n",
       "      <td>0.105</td>\n",
       "      <td>0.143388</td>\n",
       "      <td>a4/3a4t_SFG_A_1.pdb</td>\n",
       "      <td>[23, 14, 16, 10, 12, 25, 19, 24, 26, 20, 13, 1...</td>\n",
       "      <td>[8, 19, 22, 23, 26, 143, 144, 192, 196, 222, 2...</td>\n",
       "      <td>-0.214619</td>\n",
       "    </tr>\n",
       "  </tbody>\n",
       "</table>\n",
       "</div>"
      ],
      "text/plain": [
       "   TM-score        Tc  num_binding_res  num_lig_atoms  ps_score  \\\n",
       "0   0.53570  0.769231             13.0           20.0   0.30323   \n",
       "1   0.55668  0.514286             15.0           18.0   0.27881   \n",
       "\n",
       "   ps_score_pval      pval                                  query  \\\n",
       "0         0.7701  0.002061  BDB50026332-000-T1690-1ri2A00.mod.pdb   \n",
       "1         0.9420  0.000004  BDB50026332-000-T1690-1ri2A00.mod.pdb   \n",
       "\n",
       "                                  query_lig_atom_num  \\\n",
       "0  [2, 3, 4, 7, 9, 10, 11, 12, 13, 14, 15, 16, 18...   \n",
       "1  [2, 3, 4, 9, 10, 12, 13, 14, 15, 16, 18, 19, 2...   \n",
       "\n",
       "                                           query_res  rmsd  seq_identity  \\\n",
       "0  [118, 140, 122, 121, 120, 186, 146, 142, 170, ...  3.67         0.087   \n",
       "1  [87, 109, 108, 134, 133, 195, 196, 89, 64, 136...  3.19         0.105   \n",
       "\n",
       "   tc_times_ps             template  \\\n",
       "0     0.233254  a2/3a26_MTA_A_1.pdb   \n",
       "1     0.143388  a4/3a4t_SFG_A_1.pdb   \n",
       "\n",
       "                               template_lig_atom_num  \\\n",
       "0  [16, 9, 7, 1, 3, 5, 2, 18, 12, 17, 19, 13, 8, ...   \n",
       "1  [23, 14, 16, 10, 12, 25, 19, 24, 26, 20, 13, 1...   \n",
       "\n",
       "                                        template_res      xcms  \n",
       "0  [19, 22, 26, 28, 29, 143, 222, 224, 243, 244, ...  0.143313  \n",
       "1  [8, 19, 22, 23, 26, 143, 144, 192, 196, 222, 2... -0.214619  "
      ]
     },
     "execution_count": 4,
     "metadata": {},
     "output_type": "execute_result"
    }
   ],
   "source": [
    "sampled_df.head(2)"
   ]
  },
  {
   "cell_type": "code",
   "execution_count": 5,
   "metadata": {
    "collapsed": false
   },
   "outputs": [
    {
     "name": "stdout",
     "output_type": "stream",
     "text": [
      "384 out of 500 samples found templates\n"
     ]
    }
   ],
   "source": [
    "print(\"{} out of 500 samples found templates\".format(sampled_df['query'].unique().size))"
   ]
  },
  {
   "cell_type": "markdown",
   "metadata": {},
   "source": [
    "### Explore the ps-score"
   ]
  },
  {
   "cell_type": "code",
   "execution_count": 6,
   "metadata": {
    "collapsed": false
   },
   "outputs": [
    {
     "data": {
      "text/plain": [
       "<matplotlib.axes._subplots.AxesSubplot at 0x111f9d250>"
      ]
     },
     "execution_count": 6,
     "metadata": {},
     "output_type": "execute_result"
    },
    {
     "data": {
      "image/png": "[encoded data removed]",
      "text/plain": [
       "<matplotlib.figure.Figure at 0x104031750>"
      ]
     },
     "metadata": {},
     "output_type": "display_data"
    }
   ],
   "source": [
    "sampled_df.ps_score.hist(bins=30)"
   ]
  },
  {
   "cell_type": "code",
   "execution_count": 7,
   "metadata": {
    "collapsed": false
   },
   "outputs": [],
   "source": [
    "ps_outliers = sampled_df[(sampled_df.ps_score > 1) | (sampled_df.ps_score < 0)]"
   ]
  },
  {
   "cell_type": "code",
   "execution_count": 8,
   "metadata": {
    "collapsed": false
   },
   "outputs": [
    {
     "name": "stdout",
     "output_type": "stream",
     "text": [
      "592 out of 19828 templates have ps_socre > 1 or < 0\n"
     ]
    }
   ],
   "source": [
    "print(\"{} out of {} templates have ps_socre > 1 or < 0\".format(ps_outliers.shape[0], sampled_df.shape[0]))"
   ]
  },
  {
   "cell_type": "markdown",
   "metadata": {},
   "source": [
    "Remove the ps-score outliers"
   ]
  },
  {
   "cell_type": "code",
   "execution_count": 9,
   "metadata": {
    "collapsed": true
   },
   "outputs": [],
   "source": [
    "cleaned_df = sampled_df[(sampled_df.ps_score < 1) & (sampled_df.ps_score > 0)]"
   ]
  },
  {
   "cell_type": "code",
   "execution_count": 10,
   "metadata": {
    "collapsed": false
   },
   "outputs": [
    {
     "name": "stdout",
     "output_type": "stream",
     "text": [
      "after cleanning, 384 queries reamin\n",
      "48790 out of 327012 templates are greater than 0.4\n"
     ]
    }
   ],
   "source": [
    "print(\"after cleanning, {} queries reamin\\n{} out of {} templates are greater than {}\".format(\n",
    "        cleaned_df['query'].unique().size,\n",
    "        cleaned_df[cleaned_df['ps_score'] > 0.4].size,\n",
    "        cleaned_df.size,\n",
    "        0.4))"
   ]
  },
  {
   "cell_type": "markdown",
   "metadata": {},
   "source": [
    "## Explore the Tc"
   ]
  },
  {
   "cell_type": "code",
   "execution_count": 11,
   "metadata": {
    "collapsed": false
   },
   "outputs": [
    {
     "data": {
      "text/plain": [
       "<matplotlib.axes._subplots.AxesSubplot at 0x1023e2f10>"
      ]
     },
     "execution_count": 11,
     "metadata": {},
     "output_type": "execute_result"
    },
    {
     "data": {
      "image/png": "[encoded data removed]",
      "text/plain": [
       "<matplotlib.figure.Figure at 0x111f86f50>"
      ]
     },
     "metadata": {},
     "output_type": "display_data"
    }
   ],
   "source": [
    "cleaned_df.Tc.hist(bins=30)"
   ]
  },
  {
   "cell_type": "markdown",
   "metadata": {},
   "source": [
    "## Explore the XCMS"
   ]
  },
  {
   "cell_type": "code",
   "execution_count": 12,
   "metadata": {
    "collapsed": false
   },
   "outputs": [
    {
     "data": {
      "text/plain": [
       "<matplotlib.axes._subplots.AxesSubplot at 0x112ae3d10>"
      ]
     },
     "execution_count": 12,
     "metadata": {},
     "output_type": "execute_result"
    },
    {
     "data": {
      "image/png": "[encoded data removed]",
      "text/plain": [
       "<matplotlib.figure.Figure at 0x11254e8d0>"
      ]
     },
     "metadata": {},
     "output_type": "display_data"
    }
   ],
   "source": [
    "cleaned_df.xcms.hist(bins=30)"
   ]
  },
  {
   "cell_type": "markdown",
   "metadata": {},
   "source": [
    "## Ranking"
   ]
  },
  {
   "cell_type": "markdown",
   "metadata": {},
   "source": [
    "### Ranked by ps-score times Tc"
   ]
  },
  {
   "cell_type": "code",
   "execution_count": 13,
   "metadata": {
    "collapsed": false
   },
   "outputs": [
    {
     "name": "stderr",
     "output_type": "stream",
     "text": [
      "/Users/eric/anaconda2/lib/python2.7/site-packages/ipykernel/__main__.py:5: SettingWithCopyWarning: \n",
      "A value is trying to be set on a copy of a slice from a DataFrame.\n",
      "Try using .loc[row_indexer,col_indexer] = value instead\n",
      "\n",
      "See the caveats in the documentation: http://pandas.pydata.org/pandas-docs/stable/indexing.html#indexing-view-versus-copy\n"
     ]
    }
   ],
   "source": [
    "def rank(group):\n",
    "    g = group.sort_values('ps_times_tc', ascending=False)\n",
    "    return g.iloc[0]\n",
    "\n",
    "cleaned_df['ps_times_tc'] = cleaned_df.ps_score * cleaned_df.Tc"
   ]
  },
  {
   "cell_type": "code",
   "execution_count": 14,
   "metadata": {
    "collapsed": false
   },
   "outputs": [],
   "source": [
    "ranked = cleaned_df.groupby('query').apply(rank)"
   ]
  },
  {
   "cell_type": "code",
   "execution_count": 15,
   "metadata": {
    "collapsed": false
   },
   "outputs": [
    {
     "data": {
      "text/plain": [
       "<matplotlib.axes._subplots.AxesSubplot at 0x112f848d0>"
      ]
     },
     "execution_count": 15,
     "metadata": {},
     "output_type": "execute_result"
    },
    {
     "data": {
      "image/png": "[encoded data removed]",
      "text/plain": [
       "<matplotlib.figure.Figure at 0x112567a90>"
      ]
     },
     "metadata": {},
     "output_type": "display_data"
    }
   ],
   "source": [
    "ranked.xcms.hist(bins=20)"
   ]
  },
  {
   "cell_type": "markdown",
   "metadata": {},
   "source": [
    "### Ranked by ps-score first then Tc"
   ]
  },
  {
   "cell_type": "code",
   "execution_count": 16,
   "metadata": {
    "collapsed": true
   },
   "outputs": [],
   "source": [
    "def rank2(group):\n",
    "    g = group.sort_values(['ps_score', 'Tc'], ascending=False)\n",
    "    return g.iloc[0]"
   ]
  },
  {
   "cell_type": "code",
   "execution_count": 17,
   "metadata": {
    "collapsed": true
   },
   "outputs": [],
   "source": [
    "ranked2 = cleaned_df.groupby('query').apply(rank2)"
   ]
  },
  {
   "cell_type": "code",
   "execution_count": 18,
   "metadata": {
    "collapsed": false
   },
   "outputs": [
    {
     "data": {
      "text/plain": [
       "<matplotlib.axes._subplots.AxesSubplot at 0x11313af50>"
      ]
     },
     "execution_count": 18,
     "metadata": {},
     "output_type": "execute_result"
    },
    {
     "data": {
      "image/png": "[encoded data removed]",
      "text/plain": [
       "<matplotlib.figure.Figure at 0x112540b10>"
      ]
     },
     "metadata": {},
     "output_type": "display_data"
    }
   ],
   "source": [
    "ranked2.xcms.hist(bins=20)"
   ]
  },
  {
   "cell_type": "code",
   "execution_count": 19,
   "metadata": {
    "collapsed": false
   },
   "outputs": [
    {
     "name": "stdout",
     "output_type": "stream",
     "text": [
      "295 out of 384 complexes yield positive xcms value, from which 254 has a p-value less than 0.05\n"
     ]
    }
   ],
   "source": [
    "ranked2_pos = ranked2[ranked2.xcms > 0]\n",
    "print(\"{} out of {} complexes yield positive xcms value, from which {} has a p-value less than 0.05\".format(\n",
    "        ranked2_pos.shape[0],\n",
    "        ranked2.shape[0],\n",
    "        ranked2_pos[ranked2_pos['pval'] < 0.05].shape[0]))"
   ]
  },
  {
   "cell_type": "code",
   "execution_count": null,
   "metadata": {
    "collapsed": true
   },
   "outputs": [],
   "source": []
  }
 ],
 "metadata": {
  "kernelspec": {
   "display_name": "Python 2",
   "language": "python",
   "name": "python2"
  },
  "language_info": {
   "codemirror_mode": {
    "name": "ipython",
    "version": 2
   },
   "file_extension": ".py",
   "mimetype": "text/x-python",
   "name": "python",
   "nbconvert_exporter": "python",
   "pygments_lexer": "ipython2",
   "version": "2.7.11"
  }
 },
 "nbformat": 4,
 "nbformat_minor": 0
}
